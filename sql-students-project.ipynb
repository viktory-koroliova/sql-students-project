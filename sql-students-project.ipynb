{
 "cells": [
  {
   "cell_type": "markdown",
   "id": "3a6e2902",
   "metadata": {},
   "source": [
    "# Analyzing Student Behavior in an SQL Course"
   ]
  },
  {
   "cell_type": "markdown",
   "id": "0fe4f03d",
   "metadata": {},
   "source": [
    "## Introduction"
   ]
  },
  {
   "cell_type": "markdown",
   "id": "4a2fa328",
   "metadata": {},
   "source": [
    "This project explores student behavior in an online SQL course, structured into modules, lessons, and practical steps. Each step requires students to submit correct solutions, and many steps allow multiple attempts. The project focuses on querying and analyzing this educational data using SQL within a Python (Pandas + SQLite) environment.\n",
    "\n",
    "The analysis is performed in a Jupyter Notebook. The goal is to demonstrate both technical skills in SQL and data interpretation abilities."
   ]
  },
  {
   "cell_type": "markdown",
   "id": "2b125fa0",
   "metadata": {},
   "source": [
    "## Project Objectives"
   ]
  },
  {
   "cell_type": "markdown",
   "id": "4221a9d8",
   "metadata": {},
   "source": [
    "• Analyze student progress and performance across modules and lessons.\n",
    "\n",
    "• Identify difficult steps where students require more attempts.\n",
    "\n",
    "• Understand overall course completion trends.\n",
    "\n",
    "• Practice SQL skills in a real-world dataset context."
   ]
  },
  {
   "cell_type": "markdown",
   "id": "751d1124",
   "metadata": {},
   "source": [
    "## Dataset Scheme"
   ]
  },
  {
   "cell_type": "markdown",
   "id": "7ae82b49",
   "metadata": {},
   "source": [
    "![Описание](images/scheme.png)"
   ]
  },
  {
   "cell_type": "markdown",
   "id": "b6646456",
   "metadata": {},
   "source": [
    "## Import Libraries & Load Data"
   ]
  },
  {
   "cell_type": "code",
   "execution_count": null,
   "id": "a6cd2086",
   "metadata": {},
   "outputs": [],
   "source": [
    "import pandas as pd\n",
    "import sqlite3\n",
    "import matplotlib.pyplot as plt"
   ]
  },
  {
   "cell_type": "code",
   "execution_count": null,
   "id": "ec298bc3",
   "metadata": {},
   "outputs": [],
   "source": [
    "pd.set_option('display.max_rows', None)"
   ]
  },
  {
   "cell_type": "code",
   "execution_count": null,
   "id": "909cd6f4",
   "metadata": {},
   "outputs": [],
   "source": [
    "# Load CSV files from Google Drive\n",
    "\n",
    "module = pd.read_csv('https://drive.google.com/uc?id=1YUcuTYEky5VCHeeGzPCbfPpkLP_ibLf8')\n",
    "lesson = pd.read_csv('https://drive.google.com/uc?id=1XWx5-itALqUwvZzHmXqAR9TjHsEvPXDc')\n",
    "step = pd.read_csv('https://drive.google.com/uc?id=1nmAWf8jLq7PpsOXvXpTsYISyTw057BMv')\n",
    "student = pd.read_csv('https://drive.google.com/uc?id=1uDV0CnW6qsi_7SJI58NacLePJFFW8-23')\n",
    "step_student = pd.read_csv('https://drive.google.com/uc?id=1jkicD7P4gdgjmVrTHvgziv98sFp--Fwy')"
   ]
  },
  {
   "cell_type": "code",
   "execution_count": null,
   "id": "6983177b",
   "metadata": {},
   "outputs": [],
   "source": [
    "# Create in-memory SQLite database\n",
    "\n",
    "conn = sqlite3.connect(':memory:')"
   ]
  },
  {
   "cell_type": "code",
   "execution_count": null,
   "id": "fe71f14b",
   "metadata": {},
   "outputs": [],
   "source": [
    "# Load tables into the database\n",
    "\n",
    "module.to_sql('module', conn, index=False)\n",
    "lesson.to_sql('lesson', conn, index=False)\n",
    "step.to_sql('step', conn, index=False)\n",
    "student.to_sql('student', conn, index=False)\n",
    "step_student.to_sql('step_student', conn, index=False)"
   ]
  },
  {
   "cell_type": "markdown",
   "id": "385d4b61",
   "metadata": {},
   "source": [
    "## Task 1: Calculate Student Progress and Award Certificates"
   ]
  },
  {
   "cell_type": "markdown",
   "id": "c0c5dca9",
   "metadata": {},
   "source": [
    "__Objective:__\n",
    "Determine each student's progress in the course as a percentage of correctly completed steps out of the total number of distinct steps attempted across all students. Based on progress, assign one of the following:\n",
    "\n",
    "\"Distinction Certificate\" – if progress = 100%\n",
    "\n",
    "\"Certificate\" – if progress ≥ 80%\n",
    "\n",
    "Sort results by descending progress and then alphabetically by student name."
   ]
  },
  {
   "cell_type": "markdown",
   "id": "78fb3686",
   "metadata": {},
   "source": [
    "__Comment: Why we use a Python variable instead of an SQL one?__\n",
    "\n",
    "In standard SQL (especially in MySQL or PostgreSQL), we could use a session variable like __@total_steps__ directly in the query.\n",
    "However, SQLite (used here in-memory via Jupyter) does not support user-defined session variables.\n",
    "\n",
    "Therefore, we first calculate the total number of steps using a separate SQL query and store the result in a Python variable, which we then interpolate into the next SQL query using an f-string. "
   ]
  },
  {
   "cell_type": "code",
   "execution_count": null,
   "id": "36374231",
   "metadata": {},
   "outputs": [],
   "source": [
    "# Step 1: Get the total number of distinct steps attempted in the course\n",
    "total_steps = pd.read_sql(\"\"\"\n",
    "    SELECT COUNT(DISTINCT step_id) AS total FROM step_student\n",
    "\"\"\", conn).iloc[0, 0]\n",
    "\n",
    "print(f\"Total number of distinct steps: {total_steps}\")"
   ]
  },
  {
   "cell_type": "code",
   "execution_count": null,
   "id": "ff493bef",
   "metadata": {},
   "outputs": [],
   "source": [
    "# Step 2: Use the total number of steps to calculate each student's progress and assign certificates\n",
    "\n",
    "query_task_1 = f\"\"\"\n",
    "SELECT \n",
    "    student_name,\n",
    "    progress,\n",
    "    CASE \n",
    "        WHEN progress = 100 THEN 'Distinction certificate'\n",
    "        WHEN progress >= 80 THEN 'Certificate'\n",
    "        ELSE 'No certificate'\n",
    "    END AS certificate\n",
    "FROM (\n",
    "    SELECT \n",
    "        student_name,\n",
    "        ROUND(COUNT(DISTINCT step_id) * 100.0 / {total_steps}) AS progress\n",
    "    FROM student \n",
    "    JOIN step_student USING(student_id)\n",
    "    WHERE result = 'correct'\n",
    "    GROUP BY student_name\n",
    ") query_in\n",
    "ORDER BY progress DESC, student_name;\n",
    "\"\"\"\n",
    "\n",
    "progress_df = pd.read_sql(query_task_1, conn)\n",
    "progress_df.head()\n",
    "# to display all rows uncomment this command:\n",
    "# progress_df"
   ]
  },
  {
   "cell_type": "markdown",
   "id": "c482c015",
   "metadata": {},
   "source": [
    "### Conclusion:"
   ]
  },
  {
   "cell_type": "markdown",
   "id": "be469a08",
   "metadata": {},
   "source": [
    "In the first task, we identified the certification status of each student who completed the course. Each student was categorized as either passed with distinction, passed with a regular certificate, or did not receive a certificate.\n",
    "\n",
    "This classification allows us to further analyze the distribution of students across these groups. "
   ]
  },
  {
   "cell_type": "code",
   "execution_count": null,
   "id": "eceb23ff",
   "metadata": {},
   "outputs": [],
   "source": []
  },
  {
   "cell_type": "code",
   "execution_count": null,
   "id": "ca7b06ca",
   "metadata": {},
   "outputs": [],
   "source": []
  },
  {
   "cell_type": "markdown",
   "id": "faf32c6b",
   "metadata": {},
   "source": [
    "## Task 2: Calculate Average Lesson Completion Time"
   ]
  },
  {
   "cell_type": "markdown",
   "id": "5a95dacc",
   "metadata": {},
   "source": [
    "__Objective:__\n",
    "Estimate how long, on average, it takes students to complete each lesson in hours.\n",
    "\n",
    "__Requirements:__\n",
    "\n",
    "• Ignore attempts that took more than 4 hours, assuming the student was inactive.\n",
    "\n",
    "• Assign a sequential integer to each row. For each lesson, specify the module number and its position within the module."
   ]
  },
  {
   "cell_type": "code",
   "execution_count": null,
   "id": "e871e48b",
   "metadata": {},
   "outputs": [],
   "source": [
    "query_task_2 = \"\"\"\n",
    "\n",
    "-- Calculate the total time a student spent on each step\n",
    "\n",
    "WITH time_per_step AS (\n",
    "    SELECT \n",
    "        step_id, \n",
    "        student_id, \n",
    "        SUM(submission_time - attempt_time) AS step_time\n",
    "    FROM step_student\n",
    "    WHERE (submission_time - attempt_time) <= 4 * 3600\n",
    "    GROUP BY step_id, student_id\n",
    "),\n",
    "\n",
    "-- Aggregate total time spent by each student on each lesson\n",
    "\n",
    "time_per_lesson AS (\n",
    "    SELECT \n",
    "        student_id, \n",
    "        lesson_id, \n",
    "        SUM(step_time) AS lesson_time\n",
    "    FROM lesson\n",
    "    JOIN step USING (lesson_id)\n",
    "    JOIN time_per_step USING (step_id)\n",
    "    GROUP BY student_id, lesson_id\n",
    ")\n",
    "\n",
    "-- Calculate the average time spent in hours per lesson across all students\n",
    "SELECT \n",
    "    ROW_NUMBER() OVER (ORDER BY AVG(lesson_time)) AS row_num,\n",
    "    module_id || '.' || lesson_position || ' ' || lesson_name AS lesson,\n",
    "    ROUND(AVG(lesson_time) / 3600, 2) AS avg_time\n",
    "FROM time_per_lesson\n",
    "JOIN lesson USING (lesson_id)\n",
    "GROUP BY lesson_id;\n",
    "\"\"\"\n",
    "\n",
    "avg_lesson_time = pd.read_sql(query_task_2, conn)\n",
    "avg_lesson_time"
   ]
  },
  {
   "cell_type": "markdown",
   "id": "d4a3e746",
   "metadata": {},
   "source": [
    "### Conclusion"
   ]
  },
  {
   "cell_type": "markdown",
   "id": "f18aebfd",
   "metadata": {},
   "source": [
    "In the third task, we calculated the average time students spent completing each lesson.\n",
    "\n",
    "The result suggests that Lesson 2.2 is the most time-efficient for students, while Lesson 2.4 requires more effort on average. These insights can help instructors identify which lessons are more challenging or time-consuming and adjust the content or support accordingly."
   ]
  },
  {
   "cell_type": "code",
   "execution_count": null,
   "id": "e2332316",
   "metadata": {},
   "outputs": [],
   "source": []
  },
  {
   "cell_type": "code",
   "execution_count": null,
   "id": "e70464a0",
   "metadata": {},
   "outputs": [],
   "source": []
  },
  {
   "cell_type": "markdown",
   "id": "45860766",
   "metadata": {},
   "source": [
    "## Task 3: Detailed Attempt Analysis for Student_59"
   ]
  },
  {
   "cell_type": "markdown",
   "id": "dc64fbbf",
   "metadata": {},
   "source": [
    "__Objective:__\n",
    "Provide a detailed breakdown of all attempts made by student_59.\n",
    "\n",
    "__Output Columns:__\n",
    "\n",
    "• Student name\n",
    "\n",
    "• Step – Concatenated position: ModuleNumber.LessonPosition.StepPosition\n",
    "\n",
    "• Attempt number (ordered by submission time)\n",
    "\n",
    "• Result\n",
    "\n",
    "• Attempt_Duration\n",
    "\n",
    "• Relative_Time\n",
    "\n",
    "__Additional Rules:__\n",
    "\n",
    "If the attempt took more than 1 hour, replace its duration with the student's average attempt time across all steps (excluding attempts >1 hour).\n",
    "\n",
    "Sort first by step_id, then by submission time."
   ]
  },
  {
   "cell_type": "code",
   "execution_count": null,
   "id": "d99ad5f3",
   "metadata": {},
   "outputs": [],
   "source": [
    "query_task_3 = \"\"\"\n",
    "\n",
    "-- Calculate the average time between attempt and submission for student_59, \n",
    "-- exluding attempts where this time is more than 1 hour\n",
    "\n",
    "WITH mean_time AS (\n",
    "    SELECT \n",
    "        student_name, \n",
    "        ROUND(AVG(submission_time - attempt_time)) AS mean\n",
    "    FROM student\n",
    "    JOIN step_student USING (student_id)\n",
    "    WHERE student_name = 'student_59' AND (submission_time - attempt_time) <= 3600\n",
    "),\n",
    "\n",
    "-- Select all attempts by student_59, calculate the number of each attempt per step,\n",
    "-- and replace long attempt durations (> 1 hour) with the student's average time\n",
    "\n",
    "select_student AS (\n",
    "    SELECT \n",
    "        student_name,\n",
    "        step_id,\n",
    "        module_id || '.' || lesson_position || '.' || step_position AS stp_num,\n",
    "        ROW_NUMBER() OVER (PARTITION BY step_id ORDER BY submission_time) AS attempt_num,\n",
    "        result,\n",
    "        CASE \n",
    "            WHEN (submission_time - attempt_time) <= 3600 THEN (submission_time - attempt_time)\n",
    "            ELSE mean\n",
    "        END AS att_time\n",
    "    FROM student \n",
    "    JOIN mean_time USING (student_name)\n",
    "    JOIN step_student USING (student_id)\n",
    "    JOIN step USING (step_id)\n",
    "    JOIN lesson USING (lesson_id)\n",
    "    WHERE student_name = 'student_59'\n",
    "    ORDER BY step_id, attempt_num\n",
    ")\n",
    "\n",
    "-- For each attempt, display the attempt time and relative time spent on the attempt\n",
    "\n",
    "SELECT \n",
    "    student_name, \n",
    "    stp_num, \n",
    "    attempt_num, \n",
    "    result,\n",
    "    TIME(att_time, 'unixepoch') AS attempt_time,\n",
    "    ROUND(att_time * 100.0 / SUM(att_time) OVER (PARTITION BY  step_id), 2) AS relative_time\n",
    "FROM select_student\n",
    "ORDER BY step_id, 3\n",
    "\"\"\"\n",
    "\n",
    "st_59_detailed = pd.read_sql(query_task_3, conn)\n",
    "st_59_detailed.head()\n",
    "\n",
    "# to display all rows uncomment this command:\n",
    "# st_59_detailed"
   ]
  },
  {
   "cell_type": "markdown",
   "id": "c7c92a27",
   "metadata": {},
   "source": [
    "### Conclusion:"
   ]
  },
  {
   "cell_type": "markdown",
   "id": "1375938e",
   "metadata": {},
   "source": [
    "In Task 4, we examined the behavior of a specific student while solving course steps. For each attempt, we calculated the time taken and how that time compares to the first (longest) attempt on the same step — using a metric called relative time.\n",
    "\n",
    "Key observations:\n",
    "\n",
    "• The first attempt is usually the longest, often taking up to 100% of the total step time.\n",
    "\n",
    "• In most cases, subsequent attempts are significantly faster, often taking less than 5% of the original time.\n",
    "\n",
    "This pattern suggests that after initial exploration and understanding, the student becomes more confident and efficient in solving the step.\n",
    "\n",
    "These findings highlight how student behavior evolves through trial and error. Analyzing such patterns can help instructors detect moments of struggle or disengagement and improve the structure of complex steps."
   ]
  },
  {
   "cell_type": "code",
   "execution_count": null,
   "id": "1cf12314",
   "metadata": {},
   "outputs": [],
   "source": []
  },
  {
   "cell_type": "code",
   "execution_count": null,
   "id": "7474f933",
   "metadata": {},
   "outputs": [],
   "source": []
  },
  {
   "cell_type": "markdown",
   "id": "046c3c06",
   "metadata": {},
   "source": [
    "## Task 4: Student Ranking per Module"
   ]
  },
  {
   "cell_type": "markdown",
   "id": "e709bfc2",
   "metadata": {},
   "source": [
    "__Objective:__\n",
    "For each module, calculate a relative performance rating for each student based on the number of steps they successfully completed.\n",
    "\n",
    "Calculate relative rating as: Relative rating = student steps / max steps in module * 100\n",
    "\n",
    "Sort by: module number, rating descending, student name."
   ]
  },
  {
   "cell_type": "code",
   "execution_count": null,
   "id": "2518c18b",
   "metadata": {},
   "outputs": [],
   "source": [
    "query_task_4 = \"\"\"\n",
    "\n",
    "-- Count the number of correctly completed steps by each student in each module\n",
    "\n",
    "WITH student_step_count AS (\n",
    "    SELECT \n",
    "        module_id, \n",
    "        student_name, \n",
    "        student_id,\n",
    "        COUNT(DISTINCT step_id) AS correct_steps_count\n",
    "    FROM step_student \n",
    "        JOIN step USING (step_id)\n",
    "        JOIN lesson USING (lesson_id)\n",
    "        JOIN student USING (student_id)\n",
    "    WHERE result = 'correct'\n",
    "    GROUP BY module_id, student_name\n",
    ")\n",
    "\n",
    "-- Calculate the relative rating within each module as a percentage of the maximum steps completed\n",
    "\n",
    "SELECT \n",
    "    module_id, \n",
    "    student_name, \n",
    "    correct_steps_count AS rate,\n",
    "    ROUND(correct_steps_count * 100.0 / MAX(correct_steps_count) OVER (PARTITION BY module_id), 1) \n",
    "        AS relative_rate\n",
    "FROM student_step_count\n",
    "ORDER BY module_id, rate DESC, student_id;\n",
    "\"\"\"\n",
    "\n",
    "relative_rating = pd.read_sql(query_task_4, conn)\n",
    "relative_rating.head()\n",
    "\n",
    "# to display all rows uncomment this command:\n",
    "# relative_rating"
   ]
  },
  {
   "cell_type": "markdown",
   "id": "14c33e21",
   "metadata": {},
   "source": [
    "### Conclusion:"
   ]
  },
  {
   "cell_type": "markdown",
   "id": "c6664e9c",
   "metadata": {},
   "source": [
    "In Module 1, student performance is exceptionally consistent: nearly all students (over 50) achieved a 100% completion rate, meaning they successfully completed all 11 steps of the module. A few students had slightly lower completion, mostly in the 90–80% range, indicating they missed only one or two steps.\n",
    "\n",
    "In contrast, Module 2 shows much greater variation in student engagement and completion. While some students again completed all steps (100% completion), many others dropped off earlier. Completion rates in Module 2 span a wide spectrum—from full completion down to just 2 out of 21 steps (9.5%). This disparity suggests that Module 2 might have been more challenging, longer, or less engaging for some students.\n",
    "\n",
    "Overall, this analysis reveals a drop in full engagement from Module 1 to Module 2, potentially highlighting areas where improvements in content design or pacing may be beneficial in maintaining student motivation and progress."
   ]
  },
  {
   "cell_type": "code",
   "execution_count": null,
   "id": "52706135",
   "metadata": {},
   "outputs": [],
   "source": []
  },
  {
   "cell_type": "code",
   "execution_count": null,
   "id": "d0c964cc",
   "metadata": {},
   "outputs": [],
   "source": []
  },
  {
   "cell_type": "markdown",
   "id": "6ba420e2",
   "metadata": {},
   "source": [
    "## Task 5: Identify Atypical Step Completion Patterns"
   ]
  },
  {
   "cell_type": "markdown",
   "id": "b5127d4e",
   "metadata": {},
   "source": [
    "__Objective:__\n",
    "Detect students with non-standard learning behavior based on how they interact with steps.\n",
    "\n",
    "Define 3 Behavior Groups:\n",
    "\n",
    "Group I – Students who submit a correct attempt, followed by an incorrect one\n",
    "\n",
    "Group II – Students who make multiple correct attempts on the same step\n",
    "\n",
    "Group III – Students who make only incorrect attempts on a step\n",
    "\n",
    "Sort by: group number (I–III), then descending steps_count, then by student name.\n",
    "\n",
    "__Goal:__\n",
    "Help identify which assignments might confuse or intrigue students and may benefit from revision or clarification."
   ]
  },
  {
   "cell_type": "code",
   "execution_count": null,
   "id": "9ca6ca9d",
   "metadata": {},
   "outputs": [],
   "source": [
    "query_task_5 = \"\"\"\n",
    "\n",
    "-- Steps where the student first submitted a correct answer and then a wrong one\n",
    "\n",
    "WITH group_I AS (\n",
    "    SELECT \n",
    "        student_name,\n",
    "        step_id,\n",
    "        CASE \n",
    "            WHEN LEAD(result) OVER (\n",
    "                PARTITION BY student_id, step_id \n",
    "                ORDER BY submission_time\n",
    "            ) = 'wrong' AND result = 'correct' \n",
    "            THEN 1\n",
    "            ELSE 0\n",
    "        END AS error_after_success\n",
    "    FROM step_student \n",
    "    JOIN student USING (student_id)\n",
    "),\n",
    "\n",
    "-- Steps where the student submitted multiple correct answers\n",
    "\n",
    "group_II AS (\n",
    "    SELECT \n",
    "        student_name,\n",
    "        step_id\n",
    "    FROM step_student\n",
    "    JOIN student USING (student_id)\n",
    "    WHERE result = 'correct'\n",
    "    GROUP BY student_name, step_id\n",
    "    HAVING COUNT(*) >= 2\n",
    "),\n",
    "\n",
    "-- Steps where the student never submitted a correct answer\n",
    "\n",
    "group_III AS (\n",
    "    SELECT \n",
    "        student_name,\n",
    "        step_id\n",
    "    FROM step_student \n",
    "    JOIN student s USING (student_id)\n",
    "    GROUP BY student_name, step_id\n",
    "    HAVING SUM(CASE WHEN result = 'correct' THEN 1 ELSE 0 END) = 0\n",
    ")\n",
    "\n",
    "-- Combine all three groups and count steps per student in each group\n",
    "\n",
    "SELECT \n",
    "    'I' AS group_name, \n",
    "    student_name, \n",
    "    COUNT(step_id) AS steps_count\n",
    "FROM group_I\n",
    "WHERE error_after_success = 1\n",
    "GROUP BY student_name\n",
    "\n",
    "UNION\n",
    "\n",
    "SELECT \n",
    "    'II', \n",
    "    student_name, \n",
    "    COUNT(step_id)\n",
    "FROM group_II\n",
    "GROUP BY student_name\n",
    "\n",
    "UNION\n",
    "\n",
    "SELECT \n",
    "    'III', \n",
    "    student_name, \n",
    "    COUNT(step_id)\n",
    "FROM group_III\n",
    "GROUP BY student_name\n",
    "\n",
    "ORDER BY group_name, steps_count DESC, student_name;\n",
    "\n",
    "\"\"\"\n",
    "\n",
    "atypical_groups = pd.read_sql(query_task_5, conn)\n",
    "atypical_groups.head()\n",
    "\n",
    "# to display all rows uncomment this command:\n",
    "# atypical_groups"
   ]
  },
  {
   "cell_type": "markdown",
   "id": "6e9f7ce2",
   "metadata": {},
   "source": [
    "### Conclusion:"
   ]
  },
  {
   "cell_type": "markdown",
   "id": "58732bbc",
   "metadata": {},
   "source": [
    "Based on the classification of student interactions with course steps, we observe three key behavioral patterns:\n",
    "\n",
    "__Group I — Correct Answer Followed by a Wrong One__\n",
    "Interpretation: This behavior may indicate that students were experimenting or trying to understand how the testing system works. For example, they might intentionally try different inputs after solving the task correctly to explore system boundaries or test hypotheses.\n",
    "\n",
    "__Group II — Multiple Correct Submissions for the Same Step__\n",
    "Interpretation: This suggests that students were refining their solutions. They might be optimizing their code, trying different approaches, or aiming for better efficiency and clarity—even after receiving a correct result. This reflects an active learning mindset.\n",
    "\n",
    "__Group III — Never Submitted a Correct Answer__\n",
    "Interpretation: These students likely struggled with the specific content of the step or lost motivation. These steps may require further review to ensure clarity, support materials, or guidance for learners who get stuck."
   ]
  },
  {
   "cell_type": "code",
   "execution_count": null,
   "id": "7abf4693",
   "metadata": {},
   "outputs": [],
   "source": []
  }
 ],
 "metadata": {
  "kernelspec": {
   "display_name": "Python 3 (ipykernel)",
   "language": "python",
   "name": "python3"
  },
  "language_info": {
   "codemirror_mode": {
    "name": "ipython",
    "version": 3
   },
   "file_extension": ".py",
   "mimetype": "text/x-python",
   "name": "python",
   "nbconvert_exporter": "python",
   "pygments_lexer": "ipython3",
   "version": "3.10.9"
  }
 },
 "nbformat": 4,
 "nbformat_minor": 5
}
